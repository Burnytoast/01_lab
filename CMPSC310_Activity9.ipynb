{
  "nbformat": 4,
  "nbformat_minor": 0,
  "metadata": {
    "colab": {
      "provenance": [],
      "include_colab_link": true
    },
    "kernelspec": {
      "name": "python3",
      "display_name": "Python 3"
    },
    "language_info": {
      "name": "python"
    }
  },
  "cells": [
    {
      "cell_type": "markdown",
      "metadata": {
        "id": "view-in-github",
        "colab_type": "text"
      },
      "source": [
        "<a href=\"https://colab.research.google.com/github/Burnytoast/01_lab/blob/main/CMPSC310_Activity9.ipynb\" target=\"_parent\"><img src=\"https://colab.research.google.com/assets/colab-badge.svg\" alt=\"Open In Colab\"/></a>"
      ]
    },
    {
      "cell_type": "markdown",
      "source": [
        "# **Activity 9: Image Manipulation **\n"
      ],
      "metadata": {
        "id": "vcrrIOhGjS0Z"
      }
    },
    {
      "cell_type": "code",
      "source": [
        "import numpy as np\n",
        "import cv2\n",
        "\n",
        "rect = np.zeros((300,300), dtype =\"uint8\")\n",
        "cv2.rectangle(rect, (25,25), (275,275), 255, -1)\n",
        "cv2.imwrite(\"bitwise/Rectangle.png\", rect)\n",
        "\n",
        "circ = np.zeros((300,300), dtype = \"uint8\")\n",
        "cv2.circle(circ, (150,150), 150, 255, -1)\n",
        "cv2.imwrite(\"bitwise/Circle.png\", circ)\n",
        "\n",
        "bitwiseAnd = cv2.bitwise_and(rect, circ)\n",
        "cv2.imwrite(\"bitwise/AND.png\", bitwiseAnd)\n",
        "\n",
        "bitwiseOr = cv2.bitwise_or(rect, circ)\n",
        "cv2.imwrite(\"bitwise/OR.png\", bitwiseor)\n",
        "\n",
        "bitwiseXOr = cv2.bitwise_xor(rect, circ)\n",
        "cv2.imwrite(\"bitwise/XOR.png\", bitwiseXOR)\n",
        "\n",
        "bitwisenot = cv2.bitwise_not(rect, circ)\n",
        "cv2.imwrite(\"bitwise/NOT.png\", bitwisenot)"
      ],
      "metadata": {
        "colab": {
          "base_uri": "https://localhost:8080/"
        },
        "id": "Q4kqf6N-N4h9",
        "outputId": "2b2f36bc-c0fa-45c5-f607-5ba1e6a39bc2"
      },
      "execution_count": 6,
      "outputs": [
        {
          "output_type": "execute_result",
          "data": {
            "text/plain": [
              "False"
            ]
          },
          "metadata": {},
          "execution_count": 6
        }
      ]
    }
  ]
}